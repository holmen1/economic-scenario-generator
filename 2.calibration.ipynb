{
 "cells": [
  {
   "cell_type": "markdown",
   "metadata": {},
   "source": [
    "# Parameter estimation in ESG module"
   ]
  },
  {
   "cell_type": "code",
   "execution_count": 1,
   "metadata": {},
   "outputs": [],
   "source": [
    "import numpy as np\n",
    "import pandas as pd\n",
    "import matplotlib.pyplot as plt\n",
    "from sklearn import linear_model\n",
    "from sklearn.metrics import mean_squared_error\n",
    "import pickle"
   ]
  },
  {
   "cell_type": "markdown",
   "metadata": {},
   "source": [
    "Index from SCDAT.A_PRICES (Dimension)"
   ]
  },
  {
   "cell_type": "code",
   "execution_count": 2,
   "metadata": {},
   "outputs": [],
   "source": [
    "index_df = pd.read_csv('./data/index.csv',index_col='price_date')"
   ]
  },
  {
   "cell_type": "code",
   "execution_count": 3,
   "metadata": {},
   "outputs": [
    {
     "data": {
      "text/html": [
       "<div>\n",
       "<style scoped>\n",
       "    .dataframe tbody tr th:only-of-type {\n",
       "        vertical-align: middle;\n",
       "    }\n",
       "\n",
       "    .dataframe tbody tr th {\n",
       "        vertical-align: top;\n",
       "    }\n",
       "\n",
       "    .dataframe thead th {\n",
       "        text-align: right;\n",
       "    }\n",
       "</style>\n",
       "<table border=\"1\" class=\"dataframe\">\n",
       "  <thead>\n",
       "    <tr style=\"text-align: right;\">\n",
       "      <th></th>\n",
       "      <th>AK_SV</th>\n",
       "      <th>AK_WORLD</th>\n",
       "      <th>AK_WORLD_LOC</th>\n",
       "      <th>ALTERNATIVA</th>\n",
       "      <th>CPI</th>\n",
       "      <th>FASTIGHETER</th>\n",
       "      <th>KRED_SV</th>\n",
       "      <th>RB_SV_15</th>\n",
       "      <th>RB_SV_1_RATE</th>\n",
       "      <th>RB_SV_5</th>\n",
       "      <th>RB_UTL</th>\n",
       "      <th>SPREAD</th>\n",
       "    </tr>\n",
       "    <tr>\n",
       "      <th>price_date</th>\n",
       "      <th></th>\n",
       "      <th></th>\n",
       "      <th></th>\n",
       "      <th></th>\n",
       "      <th></th>\n",
       "      <th></th>\n",
       "      <th></th>\n",
       "      <th></th>\n",
       "      <th></th>\n",
       "      <th></th>\n",
       "      <th></th>\n",
       "      <th></th>\n",
       "    </tr>\n",
       "  </thead>\n",
       "  <tbody>\n",
       "    <tr>\n",
       "      <th>2003-12-31</th>\n",
       "      <td>224.48</td>\n",
       "      <td>4041.233665</td>\n",
       "      <td>591.744572</td>\n",
       "      <td>100.000000</td>\n",
       "      <td>278.0</td>\n",
       "      <td>100.40</td>\n",
       "      <td>196.46</td>\n",
       "      <td>0.048920</td>\n",
       "      <td>0.029400</td>\n",
       "      <td>0.03988</td>\n",
       "      <td>329.8108</td>\n",
       "      <td>0.00379</td>\n",
       "    </tr>\n",
       "    <tr>\n",
       "      <th>2004-01-30</th>\n",
       "      <td>238.87</td>\n",
       "      <td>4241.075265</td>\n",
       "      <td>603.376160</td>\n",
       "      <td>100.812146</td>\n",
       "      <td>277.3</td>\n",
       "      <td>100.90</td>\n",
       "      <td>197.80</td>\n",
       "      <td>0.048141</td>\n",
       "      <td>0.027374</td>\n",
       "      <td>0.04050</td>\n",
       "      <td>331.7002</td>\n",
       "      <td>0.00400</td>\n",
       "    </tr>\n",
       "    <tr>\n",
       "      <th>2004-02-27</th>\n",
       "      <td>250.56</td>\n",
       "      <td>4341.993088</td>\n",
       "      <td>615.424353</td>\n",
       "      <td>101.725526</td>\n",
       "      <td>279.4</td>\n",
       "      <td>101.40</td>\n",
       "      <td>199.80</td>\n",
       "      <td>0.046236</td>\n",
       "      <td>0.025854</td>\n",
       "      <td>0.03755</td>\n",
       "      <td>335.1980</td>\n",
       "      <td>0.00270</td>\n",
       "    </tr>\n",
       "    <tr>\n",
       "      <th>2004-03-31</th>\n",
       "      <td>248.29</td>\n",
       "      <td>4375.960151</td>\n",
       "      <td>610.441767</td>\n",
       "      <td>102.640223</td>\n",
       "      <td>279.4</td>\n",
       "      <td>101.91</td>\n",
       "      <td>202.26</td>\n",
       "      <td>0.046868</td>\n",
       "      <td>0.022710</td>\n",
       "      <td>0.03415</td>\n",
       "      <td>336.7678</td>\n",
       "      <td>0.00290</td>\n",
       "    </tr>\n",
       "    <tr>\n",
       "      <th>2004-04-30</th>\n",
       "      <td>251.56</td>\n",
       "      <td>4331.790677</td>\n",
       "      <td>606.675665</td>\n",
       "      <td>101.088818</td>\n",
       "      <td>280.1</td>\n",
       "      <td>102.41</td>\n",
       "      <td>200.78</td>\n",
       "      <td>0.049752</td>\n",
       "      <td>0.024333</td>\n",
       "      <td>0.03875</td>\n",
       "      <td>332.0747</td>\n",
       "      <td>0.00320</td>\n",
       "    </tr>\n",
       "  </tbody>\n",
       "</table>\n",
       "</div>"
      ],
      "text/plain": [
       "             AK_SV     AK_WORLD  AK_WORLD_LOC  ALTERNATIVA    CPI  \\\n",
       "price_date                                                          \n",
       "2003-12-31  224.48  4041.233665    591.744572   100.000000  278.0   \n",
       "2004-01-30  238.87  4241.075265    603.376160   100.812146  277.3   \n",
       "2004-02-27  250.56  4341.993088    615.424353   101.725526  279.4   \n",
       "2004-03-31  248.29  4375.960151    610.441767   102.640223  279.4   \n",
       "2004-04-30  251.56  4331.790677    606.675665   101.088818  280.1   \n",
       "\n",
       "            FASTIGHETER  KRED_SV  RB_SV_15  RB_SV_1_RATE  RB_SV_5    RB_UTL  \\\n",
       "price_date                                                                    \n",
       "2003-12-31       100.40   196.46  0.048920      0.029400  0.03988  329.8108   \n",
       "2004-01-30       100.90   197.80  0.048141      0.027374  0.04050  331.7002   \n",
       "2004-02-27       101.40   199.80  0.046236      0.025854  0.03755  335.1980   \n",
       "2004-03-31       101.91   202.26  0.046868      0.022710  0.03415  336.7678   \n",
       "2004-04-30       102.41   200.78  0.049752      0.024333  0.03875  332.0747   \n",
       "\n",
       "             SPREAD  \n",
       "price_date           \n",
       "2003-12-31  0.00379  \n",
       "2004-01-30  0.00400  \n",
       "2004-02-27  0.00270  \n",
       "2004-03-31  0.00290  \n",
       "2004-04-30  0.00320  "
      ]
     },
     "execution_count": 3,
     "metadata": {},
     "output_type": "execute_result"
    }
   ],
   "source": [
    "index_df.head()"
   ]
  },
  {
   "cell_type": "code",
   "execution_count": 4,
   "metadata": {},
   "outputs": [],
   "source": [
    "stocks = ['AK_SV', 'AK_WORLD', 'AK_WORLD_LOC', 'ALTERNATIVA', 'CPI', 'FASTIGHETER', 'KRED_SV', 'RB_UTL']\n",
    "rates = ['RB_SV_1_RATE', 'RB_SV_5', 'RB_SV_15', 'SPREAD']"
   ]
  },
  {
   "cell_type": "code",
   "execution_count": 5,
   "metadata": {},
   "outputs": [
    {
     "data": {
      "text/plain": [
       "<matplotlib.axes._subplots.AxesSubplot at 0x7f7f3447b950>"
      ]
     },
     "execution_count": 5,
     "metadata": {},
     "output_type": "execute_result"
    },
    {
     "data": {
      "image/png": "[encoded data removed]",
      "text/plain": [
       "<Figure size 432x288 with 1 Axes>"
      ]
     },
     "metadata": {
      "needs_background": "light"
     },
     "output_type": "display_data"
    }
   ],
   "source": [
    "index_df[stocks].plot()"
   ]
  },
  {
   "cell_type": "code",
   "execution_count": 6,
   "metadata": {},
   "outputs": [
    {
     "data": {
      "text/plain": [
       "<matplotlib.axes._subplots.AxesSubplot at 0x7f7f34571f90>"
      ]
     },
     "execution_count": 6,
     "metadata": {},
     "output_type": "execute_result"
    },
    {
     "data": {
      "image/png": "[encoded data removed]",
      "text/plain": [
       "<Figure size 432x288 with 1 Axes>"
      ]
     },
     "metadata": {
      "needs_background": "light"
     },
     "output_type": "display_data"
    }
   ],
   "source": [
    "index_df[rates].plot()"
   ]
  },
  {
   "cell_type": "code",
   "execution_count": 7,
   "metadata": {},
   "outputs": [],
   "source": [
    "returns_df = np.log(index_df[stocks]).diff()[1:]\n",
    "returns_df[rates] = index_df[rates].diff()[1:]"
   ]
  },
  {
   "cell_type": "code",
   "execution_count": 8,
   "metadata": {
    "scrolled": true
   },
   "outputs": [
    {
     "data": {
      "text/html": [
       "<div>\n",
       "<style scoped>\n",
       "    .dataframe tbody tr th:only-of-type {\n",
       "        vertical-align: middle;\n",
       "    }\n",
       "\n",
       "    .dataframe tbody tr th {\n",
       "        vertical-align: top;\n",
       "    }\n",
       "\n",
       "    .dataframe thead th {\n",
       "        text-align: right;\n",
       "    }\n",
       "</style>\n",
       "<table border=\"1\" class=\"dataframe\">\n",
       "  <thead>\n",
       "    <tr style=\"text-align: right;\">\n",
       "      <th></th>\n",
       "      <th>AK_SV</th>\n",
       "      <th>AK_WORLD</th>\n",
       "      <th>AK_WORLD_LOC</th>\n",
       "      <th>ALTERNATIVA</th>\n",
       "      <th>CPI</th>\n",
       "      <th>FASTIGHETER</th>\n",
       "      <th>KRED_SV</th>\n",
       "      <th>RB_UTL</th>\n",
       "      <th>RB_SV_1_RATE</th>\n",
       "      <th>RB_SV_5</th>\n",
       "      <th>RB_SV_15</th>\n",
       "      <th>SPREAD</th>\n",
       "    </tr>\n",
       "    <tr>\n",
       "      <th>price_date</th>\n",
       "      <th></th>\n",
       "      <th></th>\n",
       "      <th></th>\n",
       "      <th></th>\n",
       "      <th></th>\n",
       "      <th></th>\n",
       "      <th></th>\n",
       "      <th></th>\n",
       "      <th></th>\n",
       "      <th></th>\n",
       "      <th></th>\n",
       "      <th></th>\n",
       "    </tr>\n",
       "  </thead>\n",
       "  <tbody>\n",
       "    <tr>\n",
       "      <th>2004-01-30</th>\n",
       "      <td>0.062133</td>\n",
       "      <td>0.048267</td>\n",
       "      <td>0.019466</td>\n",
       "      <td>0.008089</td>\n",
       "      <td>-0.002521</td>\n",
       "      <td>0.004968</td>\n",
       "      <td>0.006798</td>\n",
       "      <td>0.005712</td>\n",
       "      <td>-0.002026</td>\n",
       "      <td>0.00062</td>\n",
       "      <td>-0.000779</td>\n",
       "      <td>0.00021</td>\n",
       "    </tr>\n",
       "    <tr>\n",
       "      <th>2004-02-27</th>\n",
       "      <td>0.047779</td>\n",
       "      <td>0.023517</td>\n",
       "      <td>0.019771</td>\n",
       "      <td>0.009019</td>\n",
       "      <td>0.007544</td>\n",
       "      <td>0.004943</td>\n",
       "      <td>0.010060</td>\n",
       "      <td>0.010490</td>\n",
       "      <td>-0.001520</td>\n",
       "      <td>-0.00295</td>\n",
       "      <td>-0.001905</td>\n",
       "      <td>-0.00130</td>\n",
       "    </tr>\n",
       "    <tr>\n",
       "      <th>2004-03-31</th>\n",
       "      <td>-0.009101</td>\n",
       "      <td>0.007792</td>\n",
       "      <td>-0.008129</td>\n",
       "      <td>0.008952</td>\n",
       "      <td>0.000000</td>\n",
       "      <td>0.005017</td>\n",
       "      <td>0.012237</td>\n",
       "      <td>0.004672</td>\n",
       "      <td>-0.003144</td>\n",
       "      <td>-0.00340</td>\n",
       "      <td>0.000632</td>\n",
       "      <td>0.00020</td>\n",
       "    </tr>\n",
       "    <tr>\n",
       "      <th>2004-04-30</th>\n",
       "      <td>0.013084</td>\n",
       "      <td>-0.010145</td>\n",
       "      <td>-0.006189</td>\n",
       "      <td>-0.015230</td>\n",
       "      <td>0.002502</td>\n",
       "      <td>0.004894</td>\n",
       "      <td>-0.007344</td>\n",
       "      <td>-0.014034</td>\n",
       "      <td>0.001623</td>\n",
       "      <td>0.00460</td>\n",
       "      <td>0.002884</td>\n",
       "      <td>0.00030</td>\n",
       "    </tr>\n",
       "    <tr>\n",
       "      <th>2004-05-31</th>\n",
       "      <td>-0.012319</td>\n",
       "      <td>-0.015384</td>\n",
       "      <td>0.001893</td>\n",
       "      <td>-0.001586</td>\n",
       "      <td>-0.004293</td>\n",
       "      <td>0.004870</td>\n",
       "      <td>0.001941</td>\n",
       "      <td>-0.001849</td>\n",
       "      <td>0.000710</td>\n",
       "      <td>0.00035</td>\n",
       "      <td>0.000187</td>\n",
       "      <td>0.00065</td>\n",
       "    </tr>\n",
       "  </tbody>\n",
       "</table>\n",
       "</div>"
      ],
      "text/plain": [
       "               AK_SV  AK_WORLD  AK_WORLD_LOC  ALTERNATIVA       CPI  \\\n",
       "price_date                                                            \n",
       "2004-01-30  0.062133  0.048267      0.019466     0.008089 -0.002521   \n",
       "2004-02-27  0.047779  0.023517      0.019771     0.009019  0.007544   \n",
       "2004-03-31 -0.009101  0.007792     -0.008129     0.008952  0.000000   \n",
       "2004-04-30  0.013084 -0.010145     -0.006189    -0.015230  0.002502   \n",
       "2004-05-31 -0.012319 -0.015384      0.001893    -0.001586 -0.004293   \n",
       "\n",
       "            FASTIGHETER   KRED_SV    RB_UTL  RB_SV_1_RATE  RB_SV_5  RB_SV_15  \\\n",
       "price_date                                                                     \n",
       "2004-01-30     0.004968  0.006798  0.005712     -0.002026  0.00062 -0.000779   \n",
       "2004-02-27     0.004943  0.010060  0.010490     -0.001520 -0.00295 -0.001905   \n",
       "2004-03-31     0.005017  0.012237  0.004672     -0.003144 -0.00340  0.000632   \n",
       "2004-04-30     0.004894 -0.007344 -0.014034      0.001623  0.00460  0.002884   \n",
       "2004-05-31     0.004870  0.001941 -0.001849      0.000710  0.00035  0.000187   \n",
       "\n",
       "             SPREAD  \n",
       "price_date           \n",
       "2004-01-30  0.00021  \n",
       "2004-02-27 -0.00130  \n",
       "2004-03-31  0.00020  \n",
       "2004-04-30  0.00030  \n",
       "2004-05-31  0.00065  "
      ]
     },
     "execution_count": 8,
     "metadata": {},
     "output_type": "execute_result"
    }
   ],
   "source": [
    "returns_df.head()"
   ]
  },
  {
   "cell_type": "markdown",
   "metadata": {},
   "source": [
    "### Estimating $\\mu$ and $\\sigma$ for stocks"
   ]
  },
  {
   "cell_type": "code",
   "execution_count": 9,
   "metadata": {},
   "outputs": [],
   "source": [
    "variance = returns_df[stocks].var()*12 # 12 months\n",
    "mean = returns_df[stocks].mean()*12\n",
    "ar = returns_df[stocks].mean()*0 "
   ]
  },
  {
   "cell_type": "markdown",
   "metadata": {},
   "source": [
    "### Estimating a, $\\mu$ and $\\sigma$ for rates"
   ]
  },
  {
   "cell_type": "markdown",
   "metadata": {},
   "source": [
    "O-U has analytic solution"
   ]
  },
  {
   "cell_type": "markdown",
   "metadata": {},
   "source": [
    "$r(t) = r_0 e^{-at} + \\mu (1 - e^{-at}) + \\sigma \\int_0^t e^{a(s-t)}dB(s)$"
   ]
  },
  {
   "cell_type": "markdown",
   "metadata": {},
   "source": [
    "which is discretized"
   ]
  },
  {
   "cell_type": "markdown",
   "metadata": {},
   "source": [
    "$r_{t+1} = r_t e^{-a\\Delta t} + \\mu (1 - e^{-a\\Delta t}) +\n",
    "\\sigma \\sqrt{\\frac{1 - e^{-2a\\Delta t}}{2a}} \\Delta B$"
   ]
  },
  {
   "cell_type": "markdown",
   "metadata": {},
   "source": [
    "to map coefficients from linear regression"
   ]
  },
  {
   "cell_type": "markdown",
   "metadata": {},
   "source": [
    "$r_{t+1} = w_1 r_t + w_0 + \\epsilon$"
   ]
  },
  {
   "cell_type": "code",
   "execution_count": 10,
   "metadata": {},
   "outputs": [],
   "source": [
    "reg = linear_model.LinearRegression()"
   ]
  },
  {
   "cell_type": "code",
   "execution_count": 11,
   "metadata": {},
   "outputs": [],
   "source": [
    "d = 1/12 # months\n",
    "for rate in index_df[rates]:\n",
    "    y = index_df[rate][1:].to_numpy()\n",
    "    X = index_df[rate][:-1].to_numpy().reshape(-1,1)\n",
    "    reg.fit(X,y)\n",
    "    w0 = reg.intercept_\n",
    "    w1 = reg.coef_[0]\n",
    "    sd = np.sqrt(mean_squared_error(w0 + w1*X, y))\n",
    "    \n",
    "    a = -np.log(w1)/d\n",
    "    mu = w0/(1-w1)\n",
    "    sigma = sd * np.sqrt(-2*np.log(w1)/(d*(1-w1**2)))\n",
    "    \n",
    "    variance[rate] = sigma**2\n",
    "    mean[rate] = mu\n",
    "    ar[rate] = a"
   ]
  },
  {
   "cell_type": "markdown",
   "metadata": {},
   "source": [
    "### Initial values and correlation from observations"
   ]
  },
  {
   "cell_type": "code",
   "execution_count": 12,
   "metadata": {},
   "outputs": [],
   "source": [
    "s0 = index_df[stocks+rates].iloc[0]\n",
    "Corr = returns_df.corr()"
   ]
  },
  {
   "cell_type": "markdown",
   "metadata": {},
   "source": [
    "Simulation parameters"
   ]
  },
  {
   "cell_type": "code",
   "execution_count": 13,
   "metadata": {},
   "outputs": [],
   "source": [
    "params = (s0, Corr, variance, mean, ar)"
   ]
  },
  {
   "cell_type": "code",
   "execution_count": 14,
   "metadata": {},
   "outputs": [],
   "source": [
    "with open('./data/params.pkl', 'wb') as f:\n",
    "    pickle.dump(params, f)"
   ]
  },
  {
   "cell_type": "code",
   "execution_count": null,
   "metadata": {},
   "outputs": [],
   "source": []
  }
 ],
 "metadata": {
  "kernelspec": {
   "display_name": "Python 3",
   "language": "python",
   "name": "python3"
  },
  "language_info": {
   "codemirror_mode": {
    "name": "ipython",
    "version": 3
   },
   "file_extension": ".py",
   "mimetype": "text/x-python",
   "name": "python",
   "nbconvert_exporter": "python",
   "pygments_lexer": "ipython3",
   "version": "3.7.7"
  }
 },
 "nbformat": 4,
 "nbformat_minor": 2
}

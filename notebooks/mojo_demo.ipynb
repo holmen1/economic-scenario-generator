{
 "cells": [
  {
   "cell_type": "code",
   "execution_count": 2,
   "id": "70c52b3e-b336-471a-adfc-6bfccea4b539",
   "metadata": {
    "is_executing": true
   },
   "outputs": [],
   "source": [
    "from python import Python\n",
    "\n",
    "Python.add_to_path(\"../project/source/\")\n",
    "let setup = Python.import_module(\"setup\")\n",
    "setup.ensure_package_installed(\"numpy\")\n",
    "setup.ensure_package_installed(\"scipy\")"
   ]
  },
  {
   "cell_type": "code",
   "execution_count": 9,
   "id": "eb5eda72c0f2ccae",
   "metadata": {
    "collapsed": false
   },
   "outputs": [],
   "source": [
    "let noise = Python.import_module(\"noise\")\n",
    "let np = Python.import_module(\"numpy\")\n",
    "let plt = Python.import_module(\"matplotlib.pyplot\")"
   ]
  },
  {
   "cell_type": "code",
   "execution_count": 4,
   "id": "753ac172",
   "metadata": {},
   "outputs": [],
   "source": [
    "let noise_generator = noise.NoiseGenerator()"
   ]
  },
  {
   "cell_type": "code",
   "execution_count": 5,
   "id": "75effd8a",
   "metadata": {},
   "outputs": [],
   "source": [
    "N = 100 # simulations\n",
    "interval = 12 # monthly\n",
    "T = 15 # years\n",
    "steps = interval * T"
   ]
  },
  {
   "cell_type": "code",
   "execution_count": 6,
   "id": "053dad2e",
   "metadata": {},
   "outputs": [],
   "source": [
    "s0 = np.array([224.0, 234.0, 0.03]) # initial value\n",
    "a = np.array([0.0, 0.0, 0.09]) # speed of reversion (rates)\n",
    "mu = np.array([0.094, 0.094, -0.007]) # drift (stocks), long term mean level (rates)\n",
    "sigma = np.array([0.16, 0.16, 0.007]) # volatility\n",
    "corrmatrix = np.array([1.0, 1.0, 0.2, 1.0, 1.0, 0.2, 0.2, 0.2, 1.0]).reshape(3, 3)"
   ]
  },
  {
   "cell_type": "code",
   "execution_count": 23,
   "id": "16ce9058",
   "metadata": {},
   "outputs": [
    {
     "name": "stdout",
     "output_type": "stream",
     "text": [
      "(3, 18000)\n"
     ]
    }
   ],
   "source": [
    "dB = noise_generator.normal_steps(corrmatrix, N * steps)\n",
    "print(dB.shape)"
   ]
  },
  {
   "cell_type": "code",
   "execution_count": 24,
   "id": "f6a9c53d",
   "metadata": {},
   "outputs": [],
   "source": [
    "def show_plot(matrix: PythonObject):\n",
    "    alias scale = 10\n",
    "    alias dpi = 64\n",
    "\n",
    "    np = Python.import_module(\"numpy\")\n",
    "    plt = Python.import_module(\"matplotlib.pyplot\")\n",
    "    colors = Python.import_module(\"matplotlib.colors\")\n",
    "\n",
    "    numpy_array = np.zeros((3, 18000), np.float64)\n",
    "\n",
    "    for row in range(3):\n",
    "        for col in range(18000):\n",
    "            numpy_array.itemset((col, row), matrix[col, row])\n",
    "\n",
    "    plt.plot(numpy_array)\n",
    "    plt.show()"
   ]
  },
  {
   "cell_type": "code",
   "execution_count": 25,
   "id": "10b51786",
   "metadata": {},
   "outputs": [
    {
     "name": "stdout",
     "output_type": "stream",
     "text": [
      "Error: expected 1 argument, got 2\n"
     ]
    }
   ],
   "source": [
    "show_plot(dB)"
   ]
  }
 ],
 "metadata": {
  "kernelspec": {
   "display_name": "Mojo",
   "language": "mojo",
   "name": "mojo-jupyter-kernel"
  },
  "language_info": {
   "codemirror_mode": {
    "name": "mojo"
   },
   "file_extension": ".mojo",
   "mimetype": "text/x-mojo",
   "name": "mojo"
  }
 },
 "nbformat": 4,
 "nbformat_minor": 5
}
